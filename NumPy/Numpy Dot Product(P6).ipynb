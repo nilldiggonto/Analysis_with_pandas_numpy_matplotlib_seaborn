{
 "cells": [
  {
   "cell_type": "code",
   "execution_count": 1,
   "metadata": {},
   "outputs": [],
   "source": [
    "import numpy as np"
   ]
  },
  {
   "cell_type": "code",
   "execution_count": 3,
   "metadata": {},
   "outputs": [],
   "source": [
    "np.random.seed(1)\n",
    "a1 = np.random.randint(1,10,(4,2))\n",
    "a2 = np.random.randint(1,10,(2,4))"
   ]
  },
  {
   "cell_type": "code",
   "execution_count": 4,
   "metadata": {},
   "outputs": [
    {
     "data": {
      "text/plain": [
       "array([[6, 9],\n",
       "       [6, 1],\n",
       "       [1, 2],\n",
       "       [8, 7]])"
      ]
     },
     "execution_count": 4,
     "metadata": {},
     "output_type": "execute_result"
    }
   ],
   "source": [
    "a1"
   ]
  },
  {
   "cell_type": "code",
   "execution_count": 5,
   "metadata": {},
   "outputs": [
    {
     "data": {
      "text/plain": [
       "array([[3, 5, 6, 3],\n",
       "       [5, 3, 5, 8]])"
      ]
     },
     "execution_count": 5,
     "metadata": {},
     "output_type": "execute_result"
    }
   ],
   "source": [
    "a2"
   ]
  },
  {
   "cell_type": "code",
   "execution_count": 6,
   "metadata": {},
   "outputs": [
    {
     "data": {
      "text/plain": [
       "((4, 2), (2, 4))"
      ]
     },
     "execution_count": 6,
     "metadata": {},
     "output_type": "execute_result"
    }
   ],
   "source": [
    "a1.shape,a2.shape"
   ]
  },
  {
   "cell_type": "code",
   "execution_count": 7,
   "metadata": {},
   "outputs": [
    {
     "data": {
      "text/plain": [
       "array([[18, 45],\n",
       "       [30,  3],\n",
       "       [ 6, 10],\n",
       "       [24, 56]])"
      ]
     },
     "execution_count": 7,
     "metadata": {},
     "output_type": "execute_result"
    }
   ],
   "source": [
    "a1 * a2.T # Element Wise "
   ]
  },
  {
   "cell_type": "code",
   "execution_count": 8,
   "metadata": {},
   "outputs": [],
   "source": [
    "# Dot Product"
   ]
  },
  {
   "cell_type": "code",
   "execution_count": 10,
   "metadata": {},
   "outputs": [
    {
     "data": {
      "text/plain": [
       "array([[63, 57, 81, 90],\n",
       "       [23, 33, 41, 26],\n",
       "       [13, 11, 16, 19],\n",
       "       [59, 61, 83, 80]])"
      ]
     },
     "execution_count": 10,
     "metadata": {},
     "output_type": "execute_result"
    }
   ],
   "source": [
    "np.dot(a1,a2) # (4,2) dotproduct (2,4) = (4,4)"
   ]
  },
  {
   "cell_type": "code",
   "execution_count": 11,
   "metadata": {},
   "outputs": [],
   "source": [
    "# (a,b) dot product of (b,a) will be (a,a)"
   ]
  },
  {
   "cell_type": "code",
   "execution_count": 13,
   "metadata": {},
   "outputs": [],
   "source": [
    "a3 = np.random.randint(1,10,(3,2,2))"
   ]
  },
  {
   "cell_type": "code",
   "execution_count": 14,
   "metadata": {},
   "outputs": [],
   "source": [
    "a4 = np.random.randint(1,10,(3,2,2))"
   ]
  },
  {
   "cell_type": "code",
   "execution_count": 15,
   "metadata": {},
   "outputs": [
    {
     "data": {
      "text/plain": [
       "array([[[8, 2],\n",
       "        [8, 1]],\n",
       "\n",
       "       [[7, 8],\n",
       "        [7, 2]],\n",
       "\n",
       "       [[1, 2],\n",
       "        [9, 9]]])"
      ]
     },
     "execution_count": 15,
     "metadata": {},
     "output_type": "execute_result"
    }
   ],
   "source": [
    "a3"
   ]
  },
  {
   "cell_type": "code",
   "execution_count": 16,
   "metadata": {},
   "outputs": [
    {
     "data": {
      "text/plain": [
       "array([[[4, 9],\n",
       "        [8, 4]],\n",
       "\n",
       "       [[7, 6],\n",
       "        [2, 4]],\n",
       "\n",
       "       [[5, 9],\n",
       "        [2, 5]]])"
      ]
     },
     "execution_count": 16,
     "metadata": {},
     "output_type": "execute_result"
    }
   ],
   "source": [
    "a4"
   ]
  },
  {
   "cell_type": "code",
   "execution_count": 17,
   "metadata": {},
   "outputs": [
    {
     "data": {
      "text/plain": [
       "((3, 2, 2), (3, 2, 2))"
      ]
     },
     "execution_count": 17,
     "metadata": {},
     "output_type": "execute_result"
    }
   ],
   "source": [
    "(a3.shape),(a4.shape)"
   ]
  },
  {
   "cell_type": "code",
   "execution_count": 19,
   "metadata": {},
   "outputs": [
    {
     "data": {
      "text/plain": [
       "(3, 2, 3, 2)"
      ]
     },
     "execution_count": 19,
     "metadata": {},
     "output_type": "execute_result"
    }
   ],
   "source": [
    "np.dot(a3,a4).shape"
   ]
  },
  {
   "cell_type": "code",
   "execution_count": 20,
   "metadata": {},
   "outputs": [
    {
     "data": {
      "text/plain": [
       "array([[[[ 48,  80],\n",
       "         [ 60,  56],\n",
       "         [ 44,  82]],\n",
       "\n",
       "        [[ 40,  76],\n",
       "         [ 58,  52],\n",
       "         [ 42,  77]]],\n",
       "\n",
       "\n",
       "       [[[ 92,  95],\n",
       "         [ 65,  74],\n",
       "         [ 51, 103]],\n",
       "\n",
       "        [[ 44,  71],\n",
       "         [ 53,  50],\n",
       "         [ 39,  73]]],\n",
       "\n",
       "\n",
       "       [[[ 20,  17],\n",
       "         [ 11,  14],\n",
       "         [  9,  19]],\n",
       "\n",
       "        [[108, 117],\n",
       "         [ 81,  90],\n",
       "         [ 63, 126]]]])"
      ]
     },
     "execution_count": 20,
     "metadata": {},
     "output_type": "execute_result"
    }
   ],
   "source": [
    "np.dot(a3,a4)"
   ]
  },
  {
   "cell_type": "code",
   "execution_count": 32,
   "metadata": {},
   "outputs": [],
   "source": [
    "a5 = np.random.randint(1,10,(4,3,2))"
   ]
  },
  {
   "cell_type": "code",
   "execution_count": 33,
   "metadata": {},
   "outputs": [
    {
     "data": {
      "text/plain": [
       "(4, 3, 3, 2)"
      ]
     },
     "execution_count": 33,
     "metadata": {},
     "output_type": "execute_result"
    }
   ],
   "source": [
    "np.dot(a5,a4).shape"
   ]
  },
  {
   "cell_type": "code",
   "execution_count": 34,
   "metadata": {},
   "outputs": [
    {
     "data": {
      "text/plain": [
       "((4, 3, 2), (3, 2, 2))"
      ]
     },
     "execution_count": 34,
     "metadata": {},
     "output_type": "execute_result"
    }
   ],
   "source": [
    "a5.shape , a4.shape"
   ]
  },
  {
   "cell_type": "code",
   "execution_count": 35,
   "metadata": {},
   "outputs": [
    {
     "data": {
      "text/plain": [
       "array([[[[108, 117],\n",
       "         [ 81,  90],\n",
       "         [ 63, 126]],\n",
       "\n",
       "        [[ 76,  59],\n",
       "         [ 37,  50],\n",
       "         [ 31,  67]],\n",
       "\n",
       "        [[ 72,  78],\n",
       "         [ 54,  60],\n",
       "         [ 42,  84]]],\n",
       "\n",
       "\n",
       "       [[[ 68,  69],\n",
       "         [ 47,  54],\n",
       "         [ 37,  75]],\n",
       "\n",
       "        [[ 84, 105],\n",
       "         [ 75,  78],\n",
       "         [ 57, 111]],\n",
       "\n",
       "        [[ 52,  89],\n",
       "         [ 67,  62],\n",
       "         [ 49,  91]]],\n",
       "\n",
       "\n",
       "       [[[ 80,  54],\n",
       "         [ 32,  48],\n",
       "         [ 28,  63]],\n",
       "\n",
       "        [[ 40,  76],\n",
       "         [ 58,  52],\n",
       "         [ 42,  77]],\n",
       "\n",
       "        [[ 56,  56],\n",
       "         [ 38,  44],\n",
       "         [ 30,  61]]],\n",
       "\n",
       "\n",
       "       [[[ 20,  31],\n",
       "         [ 23,  22],\n",
       "         [ 17,  32]],\n",
       "\n",
       "        [[ 64,  60],\n",
       "         [ 40,  48],\n",
       "         [ 32,  66]],\n",
       "\n",
       "        [[ 32,  30],\n",
       "         [ 20,  24],\n",
       "         [ 16,  33]]]])"
      ]
     },
     "execution_count": 35,
     "metadata": {},
     "output_type": "execute_result"
    }
   ],
   "source": [
    "np.dot(a5,a4)"
   ]
  },
  {
   "cell_type": "code",
   "execution_count": null,
   "metadata": {},
   "outputs": [],
   "source": []
  }
 ],
 "metadata": {
  "kernelspec": {
   "display_name": "Python 3",
   "language": "python",
   "name": "python3"
  },
  "language_info": {
   "codemirror_mode": {
    "name": "ipython",
    "version": 3
   },
   "file_extension": ".py",
   "mimetype": "text/x-python",
   "name": "python",
   "nbconvert_exporter": "python",
   "pygments_lexer": "ipython3",
   "version": "3.7.0"
  }
 },
 "nbformat": 4,
 "nbformat_minor": 2
}
