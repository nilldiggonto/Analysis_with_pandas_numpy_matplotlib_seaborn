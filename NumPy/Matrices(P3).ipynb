{
 "cells": [
  {
   "cell_type": "code",
   "execution_count": 1,
   "metadata": {},
   "outputs": [],
   "source": [
    "import numpy as np"
   ]
  },
  {
   "cell_type": "code",
   "execution_count": 2,
   "metadata": {},
   "outputs": [],
   "source": [
    "np.random.seed(1)\n",
    "rand1 = np.random.randint(1,10,(2,3))"
   ]
  },
  {
   "cell_type": "code",
   "execution_count": 3,
   "metadata": {},
   "outputs": [
    {
     "data": {
      "text/plain": [
       "array([[6, 9, 6],\n",
       "       [1, 1, 2]])"
      ]
     },
     "execution_count": 3,
     "metadata": {},
     "output_type": "execute_result"
    }
   ],
   "source": [
    "rand1"
   ]
  },
  {
   "cell_type": "code",
   "execution_count": 4,
   "metadata": {},
   "outputs": [],
   "source": [
    "np.random.seed(2)\n",
    "rand2 = np.random.randint(1,10,(2,3,3))"
   ]
  },
  {
   "cell_type": "code",
   "execution_count": 5,
   "metadata": {},
   "outputs": [
    {
     "data": {
      "text/plain": [
       "array([[[9, 9, 7],\n",
       "        [3, 9, 8],\n",
       "        [3, 2, 6]],\n",
       "\n",
       "       [[5, 5, 6],\n",
       "        [8, 4, 7],\n",
       "        [5, 4, 8]]])"
      ]
     },
     "execution_count": 5,
     "metadata": {},
     "output_type": "execute_result"
    }
   ],
   "source": [
    "rand2"
   ]
  },
  {
   "cell_type": "code",
   "execution_count": 6,
   "metadata": {},
   "outputs": [],
   "source": [
    "################\n",
    "#Elements showing"
   ]
  },
  {
   "cell_type": "code",
   "execution_count": 7,
   "metadata": {},
   "outputs": [
    {
     "data": {
      "text/plain": [
       "array([6, 9, 6])"
      ]
     },
     "execution_count": 7,
     "metadata": {},
     "output_type": "execute_result"
    }
   ],
   "source": [
    "rand1[0]"
   ]
  },
  {
   "cell_type": "code",
   "execution_count": 8,
   "metadata": {},
   "outputs": [
    {
     "data": {
      "text/plain": [
       "array([[9, 9, 7],\n",
       "       [3, 9, 8],\n",
       "       [3, 2, 6]])"
      ]
     },
     "execution_count": 8,
     "metadata": {},
     "output_type": "execute_result"
    }
   ],
   "source": [
    "rand2[0]"
   ]
  },
  {
   "cell_type": "code",
   "execution_count": 9,
   "metadata": {},
   "outputs": [
    {
     "data": {
      "text/plain": [
       "array([1, 1, 2])"
      ]
     },
     "execution_count": 9,
     "metadata": {},
     "output_type": "execute_result"
    }
   ],
   "source": [
    "rand1[1]"
   ]
  },
  {
   "cell_type": "code",
   "execution_count": 10,
   "metadata": {},
   "outputs": [
    {
     "data": {
      "text/plain": [
       "array([[5, 5, 6],\n",
       "       [8, 4, 7],\n",
       "       [5, 4, 8]])"
      ]
     },
     "execution_count": 10,
     "metadata": {},
     "output_type": "execute_result"
    }
   ],
   "source": [
    "rand2[1]"
   ]
  },
  {
   "cell_type": "code",
   "execution_count": 11,
   "metadata": {},
   "outputs": [
    {
     "data": {
      "text/plain": [
       "(2, 3)"
      ]
     },
     "execution_count": 11,
     "metadata": {},
     "output_type": "execute_result"
    }
   ],
   "source": [
    "rand1.shape "
   ]
  },
  {
   "cell_type": "code",
   "execution_count": 12,
   "metadata": {},
   "outputs": [
    {
     "data": {
      "text/plain": [
       "(2, 3, 3)"
      ]
     },
     "execution_count": 12,
     "metadata": {},
     "output_type": "execute_result"
    }
   ],
   "source": [
    "rand2.shape"
   ]
  },
  {
   "cell_type": "code",
   "execution_count": 13,
   "metadata": {},
   "outputs": [],
   "source": [
    "#slice"
   ]
  },
  {
   "cell_type": "code",
   "execution_count": 14,
   "metadata": {},
   "outputs": [
    {
     "data": {
      "text/plain": [
       "array([[[9, 9, 7],\n",
       "        [3, 9, 8],\n",
       "        [3, 2, 6]],\n",
       "\n",
       "       [[5, 5, 6],\n",
       "        [8, 4, 7],\n",
       "        [5, 4, 8]]])"
      ]
     },
     "execution_count": 14,
     "metadata": {},
     "output_type": "execute_result"
    }
   ],
   "source": [
    "rand2"
   ]
  },
  {
   "cell_type": "code",
   "execution_count": 17,
   "metadata": {},
   "outputs": [
    {
     "data": {
      "text/plain": [
       "array([[[9, 9],\n",
       "        [3, 9]],\n",
       "\n",
       "       [[5, 5],\n",
       "        [8, 4]]])"
      ]
     },
     "execution_count": 17,
     "metadata": {},
     "output_type": "execute_result"
    }
   ],
   "source": [
    "rand2[:2,:2,:2]"
   ]
  },
  {
   "cell_type": "code",
   "execution_count": 18,
   "metadata": {},
   "outputs": [],
   "source": [
    "########### 4dim array"
   ]
  },
  {
   "cell_type": "code",
   "execution_count": 19,
   "metadata": {},
   "outputs": [],
   "source": [
    "rand4 = np.random.randint(1,10,(3,2,4,4))"
   ]
  },
  {
   "cell_type": "code",
   "execution_count": 20,
   "metadata": {},
   "outputs": [
    {
     "data": {
      "text/plain": [
       "array([[[[7, 2, 4, 6],\n",
       "         [9, 5, 7, 4],\n",
       "         [3, 1, 5, 3],\n",
       "         [5, 2, 8, 9]],\n",
       "\n",
       "        [[3, 9, 8, 2],\n",
       "         [7, 9, 6, 4],\n",
       "         [1, 1, 3, 9],\n",
       "         [9, 3, 7, 6]]],\n",
       "\n",
       "\n",
       "       [[[7, 7, 7, 4],\n",
       "         [9, 3, 2, 5],\n",
       "         [9, 2, 7, 6],\n",
       "         [2, 3, 5, 8]],\n",
       "\n",
       "        [[7, 5, 6, 9],\n",
       "         [4, 1, 1, 6],\n",
       "         [8, 6, 1, 9],\n",
       "         [7, 6, 2, 8]]],\n",
       "\n",
       "\n",
       "       [[[5, 4, 7, 2],\n",
       "         [5, 1, 9, 6],\n",
       "         [5, 3, 8, 2],\n",
       "         [3, 2, 1, 8]],\n",
       "\n",
       "        [[2, 9, 1, 8],\n",
       "         [1, 6, 3, 6],\n",
       "         [2, 4, 4, 2],\n",
       "         [9, 7, 9, 2]]]])"
      ]
     },
     "execution_count": 20,
     "metadata": {},
     "output_type": "execute_result"
    }
   ],
   "source": [
    "rand4"
   ]
  },
  {
   "cell_type": "code",
   "execution_count": 21,
   "metadata": {},
   "outputs": [
    {
     "data": {
      "text/plain": [
       "(3, 2, 4, 4)"
      ]
     },
     "execution_count": 21,
     "metadata": {},
     "output_type": "execute_result"
    }
   ],
   "source": [
    "rand4.shape"
   ]
  },
  {
   "cell_type": "code",
   "execution_count": 22,
   "metadata": {},
   "outputs": [
    {
     "data": {
      "text/plain": [
       "4"
      ]
     },
     "execution_count": 22,
     "metadata": {},
     "output_type": "execute_result"
    }
   ],
   "source": [
    "rand4.ndim"
   ]
  },
  {
   "cell_type": "code",
   "execution_count": 23,
   "metadata": {},
   "outputs": [
    {
     "data": {
      "text/plain": [
       "array([[[[7, 2],\n",
       "         [9, 5],\n",
       "         [3, 1],\n",
       "         [5, 2]],\n",
       "\n",
       "        [[3, 9],\n",
       "         [7, 9],\n",
       "         [1, 1],\n",
       "         [9, 3]]],\n",
       "\n",
       "\n",
       "       [[[7, 7],\n",
       "         [9, 3],\n",
       "         [9, 2],\n",
       "         [2, 3]],\n",
       "\n",
       "        [[7, 5],\n",
       "         [4, 1],\n",
       "         [8, 6],\n",
       "         [7, 6]]],\n",
       "\n",
       "\n",
       "       [[[5, 4],\n",
       "         [5, 1],\n",
       "         [5, 3],\n",
       "         [3, 2]],\n",
       "\n",
       "        [[2, 9],\n",
       "         [1, 6],\n",
       "         [2, 4],\n",
       "         [9, 7]]]])"
      ]
     },
     "execution_count": 23,
     "metadata": {},
     "output_type": "execute_result"
    }
   ],
   "source": [
    "rand4[:,:,:,:2]"
   ]
  },
  {
   "cell_type": "code",
   "execution_count": null,
   "metadata": {},
   "outputs": [],
   "source": []
  }
 ],
 "metadata": {
  "kernelspec": {
   "display_name": "Python 3",
   "language": "python",
   "name": "python3"
  },
  "language_info": {
   "codemirror_mode": {
    "name": "ipython",
    "version": 3
   },
   "file_extension": ".py",
   "mimetype": "text/x-python",
   "name": "python",
   "nbconvert_exporter": "python",
   "pygments_lexer": "ipython3",
   "version": "3.7.0"
  }
 },
 "nbformat": 4,
 "nbformat_minor": 2
}
